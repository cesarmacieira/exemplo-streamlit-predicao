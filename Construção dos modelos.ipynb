{
 "cells": [
  {
   "cell_type": "markdown",
   "id": "9548f59d-9ae6-4581-8c62-c2fe00c33ec1",
   "metadata": {},
   "source": [
    "# STREAMLIT\n",
    "\n",
    "César Macieira"
   ]
  },
  {
   "cell_type": "markdown",
   "id": "8a7e4919-85c8-4270-b8b6-167c3bf88757",
   "metadata": {},
   "source": [
    "![](https://blog.streamlit.io/content/images/2023/09/st-status-transparency.gif)\n",
    "\n",
    "# O que é streamlit?\n",
    "Streamlit é uma biblioteca de código aberto para Python que torna a criação de aplicativos da web interativos e visualizações de dados em Python mais fácil e rápida.\n",
    "\n",
    "**Site com a documentação:** https://streamlit.io/\n",
    "\n",
    "# Instalação"
   ]
  },
  {
   "cell_type": "code",
   "execution_count": 1,
   "id": "1332279e-f8b6-4d07-b81d-64f91f8edac6",
   "metadata": {},
   "outputs": [],
   "source": [
    "#pip install streamlit"
   ]
  },
  {
   "cell_type": "markdown",
   "id": "fe37db04-a738-4a8a-ba87-fc0628275ef9",
   "metadata": {},
   "source": [
    "Após a instalação, para carregar a biblioteca executamos o comando:"
   ]
  },
  {
   "cell_type": "code",
   "execution_count": 2,
   "id": "184006bc-2832-4e23-83a4-0d14c046fcfd",
   "metadata": {},
   "outputs": [],
   "source": [
    "import streamlit as st"
   ]
  },
  {
   "cell_type": "markdown",
   "id": "be8da80e-48d0-46d3-ae82-c216de1a2449",
   "metadata": {},
   "source": [
    "É mais complexo a criação de um app via jupyter notebook, portanto o ideal é usar um ambiente de desenvolvimento Python com terminal para esta tarefa. \n",
    "\n",
    "Opções:\n",
    "* Pycharm\n",
    "* **Visual Studio Code (VSCode)**\n",
    "* Sublime Text; entre outras."
   ]
  },
  {
   "cell_type": "markdown",
   "id": "00e70683-895f-4e16-acb7-0769b0a66fdb",
   "metadata": {},
   "source": [
    "Para construir e mostrar o funcionamento de um aplicativo, vamos construir um modelo de machine learning e salvar como um arquivo."
   ]
  },
  {
   "cell_type": "markdown",
   "id": "fb6b0db0-d74a-4347-be5e-c3723f56ba5b",
   "metadata": {},
   "source": [
    "# Bibliotecas"
   ]
  },
  {
   "cell_type": "code",
   "execution_count": 3,
   "id": "0e2c0625-effb-46bc-b655-15a65765afd2",
   "metadata": {},
   "outputs": [],
   "source": [
    "import pandas as pd\n",
    "import numpy as np\n",
    "import random\n",
    "from sklearn.model_selection import train_test_split, TimeSeriesSplit, KFold, StratifiedKFold\n",
    "import xgboost as xgb\n",
    "from sklearn.metrics import accuracy_score, confusion_matrix, classification_report\n",
    "from skopt import BayesSearchCV, gp_minimize\n",
    "from skopt.callbacks import DeadlineStopper, DeltaYStopper\n",
    "from skopt.space import Real, Categorical, Integer\n",
    "from sklearn.metrics import make_scorer\n",
    "from functools import partial\n",
    "from sklearn.metrics import mean_absolute_error, mean_squared_error, mean_absolute_percentage_error\n",
    "from sklearn.metrics import mean_squared_log_error"
   ]
  },
  {
   "cell_type": "markdown",
   "id": "e69ed1b8-2ef6-49ab-96aa-eff38f38b578",
   "metadata": {},
   "source": [
    "# Qualidade das bobinas\n",
    "Os dados das bobinas contêm informações de 948 bobinas produzidas com o status de aceitação/rejeição.\n",
    "\n",
    "## Objetivo\n",
    "Prever o comportamento da qualidade das bobinas.\n",
    "\n",
    "## Variáveis\n",
    "* LE: limite de escoamento;\n",
    "* STATUS: se a bobina foi aceita = 0 ou rejeitada =1;\n",
    "* ESP_ENSAIO_TR: espessura da bobina (mm);\n",
    "* LARG: largura da bobina;\n",
    "* C: carbono;\n",
    "* AL: alumínio;\n",
    "* DESENF: desenfornamento;\n",
    "* ACAB: Acabamento;\n",
    "* BOB: Bobinamento;\n",
    "* TIPO_CP: tipo de corpo de prova (D, R ou Y);\n",
    "* REV: revestimento (GI ou GA).\n",
    "\n",
    "**Dados simulados!**"
   ]
  },
  {
   "cell_type": "code",
   "execution_count": 4,
   "id": "3b0c5e2d-2f0f-4453-b5fb-59e4d016415b",
   "metadata": {},
   "outputs": [],
   "source": [
    "dados = pd.read_excel(\"Dados completos.xlsx\", sheet_name='Sheet1')"
   ]
  },
  {
   "cell_type": "code",
   "execution_count": 5,
   "id": "bfc8ba3c-8660-45cb-8c10-cb8a41d37cb3",
   "metadata": {},
   "outputs": [],
   "source": [
    "dados['TIPO_CP'] = [random.choice(['D', 'R', 'Y']) for _ in range(len(dados))]\n",
    "dados['REV'] = [random.choice(['GI', 'GA']) for _ in range(len(dados))]\n",
    "dados['STATUS_0_1'] = np.where(dados['STATUS'] == 'Aceitável', 0, 1)\n",
    "dados.loc[:29, 'STATUS_0_1'] = 1"
   ]
  },
  {
   "cell_type": "code",
   "execution_count": 6,
   "id": "f790faab-b415-4881-a21b-95e55b7db990",
   "metadata": {},
   "outputs": [
    {
     "data": {
      "text/html": [
       "<div>\n",
       "<style scoped>\n",
       "    .dataframe tbody tr th:only-of-type {\n",
       "        vertical-align: middle;\n",
       "    }\n",
       "\n",
       "    .dataframe tbody tr th {\n",
       "        vertical-align: top;\n",
       "    }\n",
       "\n",
       "    .dataframe thead th {\n",
       "        text-align: right;\n",
       "    }\n",
       "</style>\n",
       "<table border=\"1\" class=\"dataframe\">\n",
       "  <thead>\n",
       "    <tr style=\"text-align: right;\">\n",
       "      <th></th>\n",
       "      <th>LE</th>\n",
       "      <th>STATUS</th>\n",
       "      <th>ESP_ENSAIO_TR</th>\n",
       "      <th>LARG</th>\n",
       "      <th>C</th>\n",
       "      <th>AL</th>\n",
       "      <th>DESENF</th>\n",
       "      <th>ACAB</th>\n",
       "      <th>BOB</th>\n",
       "      <th>STATUS_0_1</th>\n",
       "      <th>TIPO_CP_D</th>\n",
       "      <th>TIPO_CP_R</th>\n",
       "      <th>TIPO_CP_Y</th>\n",
       "      <th>REV_GA</th>\n",
       "      <th>REV_GI</th>\n",
       "    </tr>\n",
       "  </thead>\n",
       "  <tbody>\n",
       "    <tr>\n",
       "      <th>0</th>\n",
       "      <td>455.623612</td>\n",
       "      <td>Aceitável</td>\n",
       "      <td>1.22</td>\n",
       "      <td>930</td>\n",
       "      <td>17.200</td>\n",
       "      <td>32.225</td>\n",
       "      <td>1214.0</td>\n",
       "      <td>878</td>\n",
       "      <td>638</td>\n",
       "      <td>1</td>\n",
       "      <td>1</td>\n",
       "      <td>0</td>\n",
       "      <td>0</td>\n",
       "      <td>1</td>\n",
       "      <td>0</td>\n",
       "    </tr>\n",
       "    <tr>\n",
       "      <th>1</th>\n",
       "      <td>452.593579</td>\n",
       "      <td>Aceitável</td>\n",
       "      <td>1.10</td>\n",
       "      <td>700</td>\n",
       "      <td>17.870</td>\n",
       "      <td>40.600</td>\n",
       "      <td>1222.0</td>\n",
       "      <td>898</td>\n",
       "      <td>645</td>\n",
       "      <td>1</td>\n",
       "      <td>1</td>\n",
       "      <td>0</td>\n",
       "      <td>0</td>\n",
       "      <td>1</td>\n",
       "      <td>0</td>\n",
       "    </tr>\n",
       "    <tr>\n",
       "      <th>2</th>\n",
       "      <td>489.328749</td>\n",
       "      <td>Aceitável</td>\n",
       "      <td>1.04</td>\n",
       "      <td>980</td>\n",
       "      <td>19.790</td>\n",
       "      <td>33.180</td>\n",
       "      <td>1226.0</td>\n",
       "      <td>888</td>\n",
       "      <td>629</td>\n",
       "      <td>1</td>\n",
       "      <td>0</td>\n",
       "      <td>1</td>\n",
       "      <td>0</td>\n",
       "      <td>1</td>\n",
       "      <td>0</td>\n",
       "    </tr>\n",
       "    <tr>\n",
       "      <th>3</th>\n",
       "      <td>446.450584</td>\n",
       "      <td>Aceitável</td>\n",
       "      <td>1.01</td>\n",
       "      <td>980</td>\n",
       "      <td>17.738</td>\n",
       "      <td>39.750</td>\n",
       "      <td>1224.0</td>\n",
       "      <td>882</td>\n",
       "      <td>637</td>\n",
       "      <td>1</td>\n",
       "      <td>1</td>\n",
       "      <td>0</td>\n",
       "      <td>0</td>\n",
       "      <td>1</td>\n",
       "      <td>0</td>\n",
       "    </tr>\n",
       "    <tr>\n",
       "      <th>4</th>\n",
       "      <td>478.647081</td>\n",
       "      <td>Aceitável</td>\n",
       "      <td>1.11</td>\n",
       "      <td>700</td>\n",
       "      <td>20.300</td>\n",
       "      <td>36.200</td>\n",
       "      <td>1219.0</td>\n",
       "      <td>887</td>\n",
       "      <td>633</td>\n",
       "      <td>1</td>\n",
       "      <td>1</td>\n",
       "      <td>0</td>\n",
       "      <td>0</td>\n",
       "      <td>0</td>\n",
       "      <td>1</td>\n",
       "    </tr>\n",
       "  </tbody>\n",
       "</table>\n",
       "</div>"
      ],
      "text/plain": [
       "           LE     STATUS  ESP_ENSAIO_TR  LARG       C      AL  DESENF  ACAB  \\\n",
       "0  455.623612  Aceitável           1.22   930  17.200  32.225  1214.0   878   \n",
       "1  452.593579  Aceitável           1.10   700  17.870  40.600  1222.0   898   \n",
       "2  489.328749  Aceitável           1.04   980  19.790  33.180  1226.0   888   \n",
       "3  446.450584  Aceitável           1.01   980  17.738  39.750  1224.0   882   \n",
       "4  478.647081  Aceitável           1.11   700  20.300  36.200  1219.0   887   \n",
       "\n",
       "   BOB  STATUS_0_1  TIPO_CP_D  TIPO_CP_R  TIPO_CP_Y  REV_GA  REV_GI  \n",
       "0  638           1          1          0          0       1       0  \n",
       "1  645           1          1          0          0       1       0  \n",
       "2  629           1          0          1          0       1       0  \n",
       "3  637           1          1          0          0       1       0  \n",
       "4  633           1          1          0          0       0       1  "
      ]
     },
     "execution_count": 6,
     "metadata": {},
     "output_type": "execute_result"
    }
   ],
   "source": [
    "# Codificar variáveis categóricas usando One-Hot Encoding\n",
    "df = pd.get_dummies(dados, columns=['TIPO_CP','REV'], dtype=int)\n",
    "df.head()"
   ]
  },
  {
   "cell_type": "code",
   "execution_count": 7,
   "id": "0189a602-1520-44c6-b3f0-70898f0c63ac",
   "metadata": {},
   "outputs": [],
   "source": [
    "# Divide o banco de dados em 80% para treinamento e 20% para teste\n",
    "treino, teste = train_test_split(df, stratify = df[['STATUS','TIPO_CP_D','TIPO_CP_R','TIPO_CP_Y','REV_GA','REV_GI']], test_size=0.20, random_state=13)\n",
    "\n",
    "X_treino = treino[['ESP_ENSAIO_TR','LARG','C','AL','DESENF','ACAB','BOB','TIPO_CP_D','TIPO_CP_R','TIPO_CP_Y','REV_GA','REV_GI']]\n",
    "X_teste = teste[['ESP_ENSAIO_TR','LARG','C','AL','DESENF','ACAB','BOB','TIPO_CP_D','TIPO_CP_R','TIPO_CP_Y','REV_GA','REV_GI']]\n",
    "Y_treino, Y_teste = treino[['STATUS_0_1']], teste[['STATUS_0_1']]\n",
    "Y_treino_num, Y_teste_num = treino[['LE']], teste[['LE']]"
   ]
  },
  {
   "cell_type": "code",
   "execution_count": 8,
   "id": "fb915e12-95ff-4f3a-bb6b-b3aa7de1d016",
   "metadata": {},
   "outputs": [],
   "source": [
    "X_teste.to_excel('X_teste.xlsx', index=False)"
   ]
  },
  {
   "cell_type": "markdown",
   "id": "88a30c43-280e-4ab6-a2a4-2f37335a7fc2",
   "metadata": {},
   "source": [
    "# Modelo categórico"
   ]
  },
  {
   "cell_type": "code",
   "execution_count": 9,
   "id": "5874d8cc-3d7c-4a87-b638-a424df60af86",
   "metadata": {},
   "outputs": [],
   "source": [
    "xgb_mod = xgb.XGBClassifier(random_state=13, booster='gbtree', objective='binary:logistic', eval_metric = 'auc',\n",
    "                            importance_type = 'gain', gamma = 0, gpu_id = -1, interaction_constraints = '', min_child_weight = 1)\n",
    "scoring = make_scorer(accuracy_score)\n",
    "search_spaces = {'learning_rate': Real(0.01, 0.3, 'uniform'), 'max_depth': np.arange(1, 10, 1),\n",
    "                 'subsample': Real(0.1, 1.0, 'uniform'), 'colsample_bytree': Real(0.1, 1.0, 'uniform'),\n",
    "                 'colsample_bylevel': Real(0.1, 1.0, 'uniform'), 'reg_lambda': Real(1e-9, 100, 'uniform'),\n",
    "                 'reg_alpha': Real(1e-9, 100, 'uniform'), 'n_estimators': Integer(1, X_treino.shape[0]-1)}\n",
    "cv_mod, num_bins = 10, 10\n",
    "skf = StratifiedKFold(n_splits = 10, shuffle = True, random_state=13)\n",
    "y_stratified = pd.cut(Y_treino['STATUS_0_1'].rank(method='first'), bins=num_bins, labels=False)\n",
    "cv_strategy = list(skf.split(X_treino, y_stratified))\n",
    "opt_xgb = BayesSearchCV(estimator=xgb_mod, search_spaces=search_spaces, scoring=scoring,\n",
    "                        cv=cv_strategy, n_iter=10, n_points=1, n_jobs=-1, return_train_score=False, \n",
    "                        refit=False, random_state=13).fit(X_treino, Y_treino)\n",
    "best_params_xgb = opt_xgb.best_params_\n",
    "modelo_XGB_cat = xgb.XGBClassifier(random_state=13, **best_params_xgb).fit(X_treino,Y_treino) "
   ]
  },
  {
   "cell_type": "code",
   "execution_count": 10,
   "id": "40000616-1b76-4903-8597-ca1ec403a5f6",
   "metadata": {},
   "outputs": [
    {
     "data": {
      "text/html": [
       "<div>\n",
       "<style scoped>\n",
       "    .dataframe tbody tr th:only-of-type {\n",
       "        vertical-align: middle;\n",
       "    }\n",
       "\n",
       "    .dataframe tbody tr th {\n",
       "        vertical-align: top;\n",
       "    }\n",
       "\n",
       "    .dataframe thead th {\n",
       "        text-align: right;\n",
       "    }\n",
       "</style>\n",
       "<table border=\"1\" class=\"dataframe\">\n",
       "  <thead>\n",
       "    <tr style=\"text-align: right;\">\n",
       "      <th></th>\n",
       "      <th>Sensibilidade</th>\n",
       "      <th>Especificidade</th>\n",
       "      <th>Acurácia</th>\n",
       "      <th>Precisão</th>\n",
       "      <th>Recall</th>\n",
       "      <th>F1 Score</th>\n",
       "    </tr>\n",
       "  </thead>\n",
       "  <tbody>\n",
       "    <tr>\n",
       "      <th>0</th>\n",
       "      <td>0.931373</td>\n",
       "      <td>1.0</td>\n",
       "      <td>0.963158</td>\n",
       "      <td>1.0</td>\n",
       "      <td>0.931373</td>\n",
       "      <td>0.964467</td>\n",
       "    </tr>\n",
       "  </tbody>\n",
       "</table>\n",
       "</div>"
      ],
      "text/plain": [
       "   Sensibilidade  Especificidade  Acurácia  Precisão    Recall  F1 Score\n",
       "0       0.931373             1.0  0.963158       1.0  0.931373  0.964467"
      ]
     },
     "execution_count": 10,
     "metadata": {},
     "output_type": "execute_result"
    }
   ],
   "source": [
    "def get_metrics(Y_true, Y_pred):\n",
    "    cm = confusion_matrix(Y_true, Y_pred)\n",
    "    sensibilidade = cm[1, 1] / (cm[1, 0] + cm[1, 1])\n",
    "    especificidade = cm[0, 0] / (cm[0, 0] + cm[0, 1])\n",
    "    acuracia = (cm[0, 0] + cm[1, 1]) / cm.sum()\n",
    "    precisao = cm[1, 1] / (cm[0, 1] + cm[1, 1])\n",
    "    f1_score = 2 * (precisao * sensibilidade) / (precisao + sensibilidade)\n",
    "    metrics = pd.DataFrame({'Sensibilidade': [sensibilidade], 'Especificidade': [especificidade], 'Acurácia': [acuracia], 'Precisão': [precisao],\n",
    "        'Recall': [sensibilidade], 'F1 Score': [f1_score]})\n",
    "    return metrics\n",
    "get_metrics(Y_teste, modelo_XGB_cat.predict(X_teste))"
   ]
  },
  {
   "cell_type": "markdown",
   "id": "28499cd7-c0f4-4ce8-8dd8-cfa07e70c1f7",
   "metadata": {},
   "source": [
    "# Modelo numérico"
   ]
  },
  {
   "cell_type": "code",
   "execution_count": 11,
   "id": "a21a12e9-c8fa-440f-ab9a-36e7dc50dcb7",
   "metadata": {},
   "outputs": [
    {
     "name": "stderr",
     "output_type": "stream",
     "text": [
      "C:\\Users\\cesar_macieira\\Desktop\\Usiminas\\Repositório - GitHub\\lib\\site-packages\\xgboost\\core.py:160: UserWarning: [16:39:18] WARNING: C:\\buildkite-agent\\builds\\buildkite-windows-cpu-autoscaling-group-i-0cec3277c4d9d0165-1\\xgboost\\xgboost-ci-windows\\src\\common\\error_msg.cc:45: `gpu_id` is deprecated since2.0.0, use `device` instead. E.g. device=cpu/cuda/cuda:0\n",
      "  warnings.warn(smsg, UserWarning)\n"
     ]
    }
   ],
   "source": [
    "xgb_mod_num = xgb.XGBRegressor(random_state=13, booster='gbtree', objective='reg:squarederror', eval_metric = 'rmse',\n",
    "                               importance_type = 'gain', gamma = 0, gpu_id = -1, interaction_constraints = '',\n",
    "                               min_child_weight = 1)\n",
    "scoring_num = make_scorer(partial(mean_squared_error, squared=False), greater_is_better=False)\n",
    "search_spaces_num = {'learning_rate': Real(0.01, 0.3, 'uniform'), 'max_depth': np.arange(1, 15, 1),\n",
    "                     'subsample': Real(0.1, 1.0, 'uniform'), 'colsample_bytree': Real(0.1, 1.0, 'uniform'),\n",
    "                     'colsample_bylevel': Real(0.1, 1.0, 'uniform'), 'reg_lambda': Real(1e-9, 100, 'uniform'),\n",
    "                     'reg_alpha': Real(1e-9, 100, 'uniform'), 'n_estimators': Integer(1, X_treino.shape[0]-1)}\n",
    "opt_xgb_num = BayesSearchCV(estimator=xgb_mod_num, search_spaces=search_spaces_num, scoring=scoring_num,\n",
    "                            cv=cv_strategy, n_iter=10, n_points=1, n_jobs=-1, return_train_score=False,\n",
    "                            refit=False, random_state=13).fit(X_treino, Y_treino_num)\n",
    "best_params_num = opt_xgb_num.best_params_\n",
    "modelo_XGB_num = xgb.XGBRegressor(base_score=0.5, eval_metric='rmse', importance_type='gain', booster='gbtree', gamma=0,\n",
    "                                  gpu_id=-1, interaction_constraints='', **best_params_num).fit(X_treino, Y_treino_num)"
   ]
  },
  {
   "cell_type": "code",
   "execution_count": 12,
   "id": "a7b7060f-d4e4-4b18-b22d-b62b16e0a550",
   "metadata": {},
   "outputs": [],
   "source": [
    "import bz2\n",
    "import pickle"
   ]
  },
  {
   "cell_type": "code",
   "execution_count": 13,
   "id": "3e185608-cefa-48bd-a931-b523911179e3",
   "metadata": {},
   "outputs": [],
   "source": [
    "arquivo_XGB_cat = bz2.BZ2File(\"./modelos/modelo_cat\",'wb')\n",
    "pickle.dump(modelo_XGB_cat,arquivo_XGB_cat)\n",
    "arquivo_XGB_cat.close()\n",
    "arquivo_XGB_num = bz2.BZ2File(\"./modelos/modelo_num\",'wb')\n",
    "pickle.dump(modelo_XGB_num,arquivo_XGB_num)\n",
    "arquivo_XGB_num.close()"
   ]
  },
  {
   "cell_type": "code",
   "execution_count": 14,
   "id": "d4d8cbeb-e099-46eb-9b1f-27571bb614de",
   "metadata": {},
   "outputs": [],
   "source": [
    "with bz2.BZ2File(\"modelo_cat\", 'rb') as arquivo:\n",
    "    modelo_cat = pickle.load(arquivo)"
   ]
  },
  {
   "cell_type": "markdown",
   "id": "780eebf7-0234-4fc2-a3b9-9f545a919106",
   "metadata": {},
   "source": [
    "# Estrutura do aplicativo para esse projeto\n",
    "\n",
    "1. Tela que constrói uma análise descritiva.\n",
    "2. Tela para simular bobinas individualmente (resultados de forma numérica e categórica).\n",
    "3. Tela para inserir um arquivo e obter predições para um conjunto de dados."
   ]
  }
 ],
 "metadata": {
  "kernelspec": {
   "display_name": "Python 3 (ipykernel)",
   "language": "python",
   "name": "python3"
  },
  "language_info": {
   "codemirror_mode": {
    "name": "ipython",
    "version": 3
   },
   "file_extension": ".py",
   "mimetype": "text/x-python",
   "name": "python",
   "nbconvert_exporter": "python",
   "pygments_lexer": "ipython3",
   "version": "3.9.13"
  }
 },
 "nbformat": 4,
 "nbformat_minor": 5
}
